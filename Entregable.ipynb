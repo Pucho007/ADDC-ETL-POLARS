{
 "cells": [
  {
   "cell_type": "markdown",
   "metadata": {},
   "source": [
    "### GESTION DE ATENCIONES"
   ]
  },
  {
   "cell_type": "markdown",
   "metadata": {},
   "source": [
    "##### Instalar dependencias"
   ]
  },
  {
   "cell_type": "code",
   "execution_count": null,
   "metadata": {},
   "outputs": [],
   "source": [
    "!pip install polars"
   ]
  },
  {
   "cell_type": "code",
   "execution_count": null,
   "metadata": {},
   "outputs": [],
   "source": [
    "!pip install xlsx2csv"
   ]
  },
  {
   "cell_type": "code",
   "execution_count": 133,
   "metadata": {},
   "outputs": [
    {
     "name": "stdout",
     "output_type": "stream",
     "text": [
      "Collecting xlsxwriter\n",
      "  Obtaining dependency information for xlsxwriter from https://files.pythonhosted.org/packages/f7/3e/05ba2194cd5073602422859c949a4f21310a3c49bf8dccde9e03d4522b11/XlsxWriter-3.1.9-py3-none-any.whl.metadata\n",
      "  Using cached XlsxWriter-3.1.9-py3-none-any.whl.metadata (2.6 kB)\n",
      "Using cached XlsxWriter-3.1.9-py3-none-any.whl (154 kB)\n",
      "Installing collected packages: xlsxwriter\n",
      "Successfully installed xlsxwriter-3.1.9\n"
     ]
    },
    {
     "name": "stderr",
     "output_type": "stream",
     "text": [
      "\n",
      "[notice] A new release of pip is available: 23.2.1 -> 24.0\n",
      "[notice] To update, run: python.exe -m pip install --upgrade pip\n"
     ]
    }
   ],
   "source": [
    "!pip install xlsxwriter"
   ]
  },
  {
   "cell_type": "code",
   "execution_count": 2,
   "metadata": {},
   "outputs": [],
   "source": [
    "import polars as pl\n",
    "from polars import Config"
   ]
  },
  {
   "cell_type": "code",
   "execution_count": 3,
   "metadata": {},
   "outputs": [
    {
     "data": {
      "text/plain": [
       "polars.config.Config"
      ]
     },
     "execution_count": 3,
     "metadata": {},
     "output_type": "execute_result"
    }
   ],
   "source": [
    "Config.set_fmt_str_lengths(100)"
   ]
  },
  {
   "cell_type": "markdown",
   "metadata": {},
   "source": [
    "##### Leyemos el xlsx de TICKETS HISTÓRICOS"
   ]
  },
  {
   "cell_type": "code",
   "execution_count": 24,
   "metadata": {},
   "outputs": [
    {
     "data": {
      "text/html": [
       "<div><style>\n",
       ".dataframe > thead > tr,\n",
       ".dataframe > tbody > tr {\n",
       "  text-align: right;\n",
       "  white-space: pre-wrap;\n",
       "}\n",
       "</style>\n",
       "<small>shape: (5, 7)</small><table border=\"1\" class=\"dataframe\"><thead><tr><th>TicketID</th><th>Ubicacion</th><th>Service Desk</th><th>Estado</th><th>Fecha Creacion</th><th>Fecha Termino</th><th>Fecha Cierre</th></tr><tr><td>str</td><td>str</td><td>str</td><td>str</td><td>date</td><td>date</td><td>date</td></tr></thead><tbody><tr><td>&quot;WO0000004122687&quot;</td><td>&quot;AREQUIPA - 215000&quot;</td><td>&quot;Zona Norte&quot;</td><td>&quot;Cerrado&quot;</td><td>2022-06-01</td><td>2022-06-14</td><td>2022-06-14</td></tr><tr><td>&quot;WO0000004122649&quot;</td><td>&quot;METRO AV. WIESSE - 191106&quot;</td><td>&quot;Zona Centro&quot;</td><td>&quot;Cerrado&quot;</td><td>2022-06-01</td><td>2022-06-17</td><td>2022-06-17</td></tr><tr><td>&quot;WO0000004122502&quot;</td><td>&quot;NICOLAS AYLLON - 191027&quot;</td><td>&quot;Zona Centro&quot;</td><td>&quot;Cerrado&quot;</td><td>2022-06-01</td><td>2022-06-08</td><td>2022-06-08</td></tr><tr><td>&quot;WO0000004122513&quot;</td><td>&quot;JAUREGUI - 405005&quot;</td><td>&quot;Zona Norte&quot;</td><td>&quot;Cerrado&quot;</td><td>2022-06-01</td><td>2022-06-18</td><td>2022-06-18</td></tr><tr><td>&quot;WO0000004122741&quot;</td><td>&quot;CANTO GRANDE - 191096&quot;</td><td>&quot;Zona Centro&quot;</td><td>&quot;Cerrado&quot;</td><td>2022-06-01</td><td>2022-06-08</td><td>2022-06-08</td></tr></tbody></table></div>"
      ],
      "text/plain": [
       "shape: (5, 7)\n",
       "┌──────────────┬──────────────┬──────────────┬─────────┬──────────────┬──────────────┬─────────────┐\n",
       "│ TicketID     ┆ Ubicacion    ┆ Service Desk ┆ Estado  ┆ Fecha        ┆ Fecha        ┆ Fecha       │\n",
       "│ ---          ┆ ---          ┆ ---          ┆ ---     ┆ Creacion     ┆ Termino      ┆ Cierre      │\n",
       "│ str          ┆ str          ┆ str          ┆ str     ┆ ---          ┆ ---          ┆ ---         │\n",
       "│              ┆              ┆              ┆         ┆ date         ┆ date         ┆ date        │\n",
       "╞══════════════╪══════════════╪══════════════╪═════════╪══════════════╪══════════════╪═════════════╡\n",
       "│ WO0000004122 ┆ AREQUIPA -   ┆ Zona Norte   ┆ Cerrado ┆ 2022-06-01   ┆ 2022-06-14   ┆ 2022-06-14  │\n",
       "│ 687          ┆ 215000       ┆              ┆         ┆              ┆              ┆             │\n",
       "│ WO0000004122 ┆ METRO AV.    ┆ Zona Centro  ┆ Cerrado ┆ 2022-06-01   ┆ 2022-06-17   ┆ 2022-06-17  │\n",
       "│ 649          ┆ WIESSE -     ┆              ┆         ┆              ┆              ┆             │\n",
       "│              ┆ 191106       ┆              ┆         ┆              ┆              ┆             │\n",
       "│ WO0000004122 ┆ NICOLAS      ┆ Zona Centro  ┆ Cerrado ┆ 2022-06-01   ┆ 2022-06-08   ┆ 2022-06-08  │\n",
       "│ 502          ┆ AYLLON -     ┆              ┆         ┆              ┆              ┆             │\n",
       "│              ┆ 191027       ┆              ┆         ┆              ┆              ┆             │\n",
       "│ WO0000004122 ┆ JAUREGUI -   ┆ Zona Norte   ┆ Cerrado ┆ 2022-06-01   ┆ 2022-06-18   ┆ 2022-06-18  │\n",
       "│ 513          ┆ 405005       ┆              ┆         ┆              ┆              ┆             │\n",
       "│ WO0000004122 ┆ CANTO GRANDE ┆ Zona Centro  ┆ Cerrado ┆ 2022-06-01   ┆ 2022-06-08   ┆ 2022-06-08  │\n",
       "│ 741          ┆ - 191096     ┆              ┆         ┆              ┆              ┆             │\n",
       "└──────────────┴──────────────┴──────────────┴─────────┴──────────────┴──────────────┴─────────────┘"
      ]
     },
     "execution_count": 24,
     "metadata": {},
     "output_type": "execute_result"
    }
   ],
   "source": [
    "dfTicketsHistoricos = pl.read_csv(\n",
    "    source    = \"./Tickets/Tickets Historico.txt\",\n",
    "    separator = \";\",\n",
    "    columns   = [ \n",
    "        \"Numero Ticket\", \"Ubicacion\", \"Service Desk\", \n",
    "        \"Estado\", \"Fecha Creacion\", \"Fecha Termino\", \"Fecha Cierre\"\n",
    "    ],\n",
    "    dtypes={\n",
    "        \"Numero Ticket\" : pl.Utf8,\n",
    "        \"Ubicacion\" : pl.Utf8,\n",
    "        \"Service Desk\" : pl.Utf8,\n",
    "        \"Estado\" : pl.Utf8,\n",
    "        \"Fecha Creacion\" : pl.Date,\n",
    "        \"Fecha Termino\" : pl.Date,\n",
    "        \"Fecha Cierre\" : pl.Date\n",
    "    },\n",
    "    ignore_errors = True\n",
    ").rename({\n",
    "    \"Numero Ticket\" : \"TicketID\"\n",
    "})\n",
    "\n",
    "dfTicketsHistoricos.head()"
   ]
  },
  {
   "cell_type": "markdown",
   "metadata": {},
   "source": [
    "##### Leyemos el xlsx de TICKETS ACTUALES"
   ]
  },
  {
   "cell_type": "code",
   "execution_count": 25,
   "metadata": {},
   "outputs": [
    {
     "data": {
      "text/html": [
       "<div><style>\n",
       ".dataframe > thead > tr,\n",
       ".dataframe > tbody > tr {\n",
       "  text-align: right;\n",
       "  white-space: pre-wrap;\n",
       "}\n",
       "</style>\n",
       "<small>shape: (5, 7)</small><table border=\"1\" class=\"dataframe\"><thead><tr><th>TicketID</th><th>Ubicacion</th><th>Service Desk</th><th>Estado</th><th>Fecha Creacion</th><th>Fecha Termino</th><th>Fecha Cierre</th></tr><tr><td>str</td><td>str</td><td>str</td><td>str</td><td>date</td><td>date</td><td>date</td></tr></thead><tbody><tr><td>&quot;WO0000004853311&quot;</td><td>&quot;TUPAC AMARU - 191038&quot;</td><td>&quot;Zona Centro&quot;</td><td>&quot;Cerrado&quot;</td><td>2023-01-02</td><td>2023-01-10</td><td>2023-01-13</td></tr><tr><td>&quot;WO0000004852942&quot;</td><td>&quot;SAN JUAN DE LURIGANCHO - 191017&quot;</td><td>&quot;Zona Centro&quot;</td><td>&quot;Cerrado&quot;</td><td>2023-01-02</td><td>2023-01-02</td><td>2023-01-05</td></tr><tr><td>&quot;WO0000004852621&quot;</td><td>&quot;MARIANO MELGAR - 215014&quot;</td><td>&quot;Zona Norte&quot;</td><td>&quot;Cerrado&quot;</td><td>2023-01-02</td><td>2023-01-06</td><td>2023-01-09</td></tr><tr><td>&quot;WO0000004853328&quot;</td><td>&quot;ANDAHUAYLAS - 205000&quot;</td><td>&quot;Zona Norte&quot;</td><td>&quot;Cerrado&quot;</td><td>2023-01-02</td><td>2023-01-07</td><td>2023-01-10</td></tr><tr><td>&quot;WO0000004853160&quot;</td><td>&quot;COLLIQUE - 191065&quot;</td><td>&quot;Zona Centro&quot;</td><td>&quot;Cerrado&quot;</td><td>2023-01-02</td><td>2023-01-04</td><td>2023-01-07</td></tr></tbody></table></div>"
      ],
      "text/plain": [
       "shape: (5, 7)\n",
       "┌──────────────┬──────────────┬──────────────┬─────────┬──────────────┬──────────────┬─────────────┐\n",
       "│ TicketID     ┆ Ubicacion    ┆ Service Desk ┆ Estado  ┆ Fecha        ┆ Fecha        ┆ Fecha       │\n",
       "│ ---          ┆ ---          ┆ ---          ┆ ---     ┆ Creacion     ┆ Termino      ┆ Cierre      │\n",
       "│ str          ┆ str          ┆ str          ┆ str     ┆ ---          ┆ ---          ┆ ---         │\n",
       "│              ┆              ┆              ┆         ┆ date         ┆ date         ┆ date        │\n",
       "╞══════════════╪══════════════╪══════════════╪═════════╪══════════════╪══════════════╪═════════════╡\n",
       "│ WO0000004853 ┆ TUPAC AMARU  ┆ Zona Centro  ┆ Cerrado ┆ 2023-01-02   ┆ 2023-01-10   ┆ 2023-01-13  │\n",
       "│ 311          ┆ - 191038     ┆              ┆         ┆              ┆              ┆             │\n",
       "│ WO0000004852 ┆ SAN JUAN DE  ┆ Zona Centro  ┆ Cerrado ┆ 2023-01-02   ┆ 2023-01-02   ┆ 2023-01-05  │\n",
       "│ 942          ┆ LURIGANCHO - ┆              ┆         ┆              ┆              ┆             │\n",
       "│              ┆ 191017       ┆              ┆         ┆              ┆              ┆             │\n",
       "│ WO0000004852 ┆ MARIANO      ┆ Zona Norte   ┆ Cerrado ┆ 2023-01-02   ┆ 2023-01-06   ┆ 2023-01-09  │\n",
       "│ 621          ┆ MELGAR -     ┆              ┆         ┆              ┆              ┆             │\n",
       "│              ┆ 215014       ┆              ┆         ┆              ┆              ┆             │\n",
       "│ WO0000004853 ┆ ANDAHUAYLAS  ┆ Zona Norte   ┆ Cerrado ┆ 2023-01-02   ┆ 2023-01-07   ┆ 2023-01-10  │\n",
       "│ 328          ┆ - 205000     ┆              ┆         ┆              ┆              ┆             │\n",
       "│ WO0000004853 ┆ COLLIQUE -   ┆ Zona Centro  ┆ Cerrado ┆ 2023-01-02   ┆ 2023-01-04   ┆ 2023-01-07  │\n",
       "│ 160          ┆ 191065       ┆              ┆         ┆              ┆              ┆             │\n",
       "└──────────────┴──────────────┴──────────────┴─────────┴──────────────┴──────────────┴─────────────┘"
      ]
     },
     "execution_count": 25,
     "metadata": {},
     "output_type": "execute_result"
    }
   ],
   "source": [
    "dfTicketsActuales = pl.read_csv(\n",
    "    source    = \"./Tickets/Tickets Actual.csv\",\n",
    "    separator = \"|\",\n",
    "    columns   = [ \n",
    "        \"Numero Ticket\", \"Ubicacion\", \"Service Desk\", \n",
    "        \"Estado\", \"Fecha Creacion\", \"Fecha Termino\", \"Fecha Cierre\"\n",
    "    ],\n",
    "    dtypes={\n",
    "        \"Numero Ticket\" : pl.Utf8,\n",
    "        \"Ubicacion\" : pl.Utf8,\n",
    "        \"Service Desk\" : pl.Utf8,\n",
    "        \"Estado\" : pl.Utf8,\n",
    "        \"Fecha Creacion\" : pl.Date,\n",
    "        \"Fecha Termino\" : pl.Date,\n",
    "        \"Fecha Cierre\" : pl.Date\n",
    "    },\n",
    "    ignore_errors = True\n",
    ").rename({\n",
    "    \"Numero Ticket\" : \"TicketID\"\n",
    "}).filter(\n",
    "    pl.col(\"TicketID\").str.starts_with(\"WO\")\n",
    ")\n",
    "\n",
    "dfTicketsActuales.head()"
   ]
  },
  {
   "cell_type": "markdown",
   "metadata": {},
   "source": [
    "##### ANEXAMOS LA BASE HISTORICA Y LA BASE ACTUAL"
   ]
  },
  {
   "cell_type": "code",
   "execution_count": 26,
   "metadata": {},
   "outputs": [
    {
     "data": {
      "text/html": [
       "<div><style>\n",
       ".dataframe > thead > tr,\n",
       ".dataframe > tbody > tr {\n",
       "  text-align: right;\n",
       "  white-space: pre-wrap;\n",
       "}\n",
       "</style>\n",
       "<small>shape: (5, 7)</small><table border=\"1\" class=\"dataframe\"><thead><tr><th>TicketID</th><th>Ubicacion</th><th>Service Desk</th><th>Estado</th><th>Fecha Creacion</th><th>Fecha Termino</th><th>Fecha Cierre</th></tr><tr><td>str</td><td>str</td><td>str</td><td>str</td><td>date</td><td>date</td><td>date</td></tr></thead><tbody><tr><td>&quot;WO0000004853311&quot;</td><td>&quot;TUPAC AMARU - 191038&quot;</td><td>&quot;Zona Centro&quot;</td><td>&quot;Cerrado&quot;</td><td>2023-01-02</td><td>2023-01-10</td><td>2023-01-13</td></tr><tr><td>&quot;WO0000004852942&quot;</td><td>&quot;SAN JUAN DE LURIGANCHO - 191017&quot;</td><td>&quot;Zona Centro&quot;</td><td>&quot;Cerrado&quot;</td><td>2023-01-02</td><td>2023-01-02</td><td>2023-01-05</td></tr><tr><td>&quot;WO0000004852621&quot;</td><td>&quot;MARIANO MELGAR - 215014&quot;</td><td>&quot;Zona Norte&quot;</td><td>&quot;Cerrado&quot;</td><td>2023-01-02</td><td>2023-01-06</td><td>2023-01-09</td></tr><tr><td>&quot;WO0000004853328&quot;</td><td>&quot;ANDAHUAYLAS - 205000&quot;</td><td>&quot;Zona Norte&quot;</td><td>&quot;Cerrado&quot;</td><td>2023-01-02</td><td>2023-01-07</td><td>2023-01-10</td></tr><tr><td>&quot;WO0000004853160&quot;</td><td>&quot;COLLIQUE - 191065&quot;</td><td>&quot;Zona Centro&quot;</td><td>&quot;Cerrado&quot;</td><td>2023-01-02</td><td>2023-01-04</td><td>2023-01-07</td></tr></tbody></table></div>"
      ],
      "text/plain": [
       "shape: (5, 7)\n",
       "┌──────────────┬──────────────┬──────────────┬─────────┬──────────────┬──────────────┬─────────────┐\n",
       "│ TicketID     ┆ Ubicacion    ┆ Service Desk ┆ Estado  ┆ Fecha        ┆ Fecha        ┆ Fecha       │\n",
       "│ ---          ┆ ---          ┆ ---          ┆ ---     ┆ Creacion     ┆ Termino      ┆ Cierre      │\n",
       "│ str          ┆ str          ┆ str          ┆ str     ┆ ---          ┆ ---          ┆ ---         │\n",
       "│              ┆              ┆              ┆         ┆ date         ┆ date         ┆ date        │\n",
       "╞══════════════╪══════════════╪══════════════╪═════════╪══════════════╪══════════════╪═════════════╡\n",
       "│ WO0000004853 ┆ TUPAC AMARU  ┆ Zona Centro  ┆ Cerrado ┆ 2023-01-02   ┆ 2023-01-10   ┆ 2023-01-13  │\n",
       "│ 311          ┆ - 191038     ┆              ┆         ┆              ┆              ┆             │\n",
       "│ WO0000004852 ┆ SAN JUAN DE  ┆ Zona Centro  ┆ Cerrado ┆ 2023-01-02   ┆ 2023-01-02   ┆ 2023-01-05  │\n",
       "│ 942          ┆ LURIGANCHO - ┆              ┆         ┆              ┆              ┆             │\n",
       "│              ┆ 191017       ┆              ┆         ┆              ┆              ┆             │\n",
       "│ WO0000004852 ┆ MARIANO      ┆ Zona Norte   ┆ Cerrado ┆ 2023-01-02   ┆ 2023-01-06   ┆ 2023-01-09  │\n",
       "│ 621          ┆ MELGAR -     ┆              ┆         ┆              ┆              ┆             │\n",
       "│              ┆ 215014       ┆              ┆         ┆              ┆              ┆             │\n",
       "│ WO0000004853 ┆ ANDAHUAYLAS  ┆ Zona Norte   ┆ Cerrado ┆ 2023-01-02   ┆ 2023-01-07   ┆ 2023-01-10  │\n",
       "│ 328          ┆ - 205000     ┆              ┆         ┆              ┆              ┆             │\n",
       "│ WO0000004853 ┆ COLLIQUE -   ┆ Zona Centro  ┆ Cerrado ┆ 2023-01-02   ┆ 2023-01-04   ┆ 2023-01-07  │\n",
       "│ 160          ┆ 191065       ┆              ┆         ┆              ┆              ┆             │\n",
       "└──────────────┴──────────────┴──────────────┴─────────┴──────────────┴──────────────┴─────────────┘"
      ]
     },
     "execution_count": 26,
     "metadata": {},
     "output_type": "execute_result"
    }
   ],
   "source": [
    "dfTicketsUnidos = pl.concat(\n",
    "    [dfTicketsActuales, dfTicketsHistoricos]\n",
    ")\n",
    "\n",
    "dfTicketsUnidos.head()"
   ]
  },
  {
   "cell_type": "markdown",
   "metadata": {},
   "source": [
    "#### verificamos la union"
   ]
  },
  {
   "cell_type": "code",
   "execution_count": 27,
   "metadata": {},
   "outputs": [
    {
     "name": "stdout",
     "output_type": "stream",
     "text": [
      "13022\n",
      "9206\n",
      "22228\n"
     ]
    }
   ],
   "source": [
    "print(dfTicketsActuales.height)\n",
    "print(dfTicketsHistoricos.height)\n",
    "print(dfTicketsUnidos.height)"
   ]
  },
  {
   "cell_type": "markdown",
   "metadata": {},
   "source": [
    "##### quitamos duplicados"
   ]
  },
  {
   "cell_type": "code",
   "execution_count": 45,
   "metadata": {},
   "outputs": [
    {
     "data": {
      "text/html": [
       "<div><style>\n",
       ".dataframe > thead > tr,\n",
       ".dataframe > tbody > tr {\n",
       "  text-align: right;\n",
       "  white-space: pre-wrap;\n",
       "}\n",
       "</style>\n",
       "<small>shape: (5, 7)</small><table border=\"1\" class=\"dataframe\"><thead><tr><th>TicketID</th><th>Ubicacion</th><th>Service Desk</th><th>Estado</th><th>Fecha Creacion</th><th>Fecha Termino</th><th>Fecha Cierre</th></tr><tr><td>str</td><td>str</td><td>str</td><td>str</td><td>date</td><td>date</td><td>date</td></tr></thead><tbody><tr><td>&quot;WO0000004864586&quot;</td><td>&quot;PERU - 191056&quot;</td><td>&quot;Zona Centro&quot;</td><td>&quot;Cerrado&quot;</td><td>2023-01-06</td><td>2023-01-11</td><td>2023-01-14</td></tr><tr><td>&quot;WO0000004309209&quot;</td><td>&quot;PLAZA CIVICA VENTANILLA - 192026&quot;</td><td>&quot;Zona Centro&quot;</td><td>&quot;Cerrado&quot;</td><td>2022-08-03</td><td>2022-08-03</td><td>2022-08-03</td></tr><tr><td>&quot;WO0000004145864&quot;</td><td>&quot;TACNA - 540000&quot;</td><td>&quot;Zona Norte&quot;</td><td>&quot;Terminado&quot;</td><td>2022-06-10</td><td>2022-06-13</td><td>null</td></tr><tr><td>&quot;WO0000004793133&quot;</td><td>&quot;ROSA TORO - 193022&quot;</td><td>&quot;Zona Centro&quot;</td><td>&quot;Cerrado&quot;</td><td>2022-12-07</td><td>2022-12-10</td><td>2022-12-12</td></tr><tr><td>&quot;WO0000004554767&quot;</td><td>&quot;CHINCHA - 315000&quot;</td><td>&quot;Zona Centro&quot;</td><td>&quot;Cerrado&quot;</td><td>2022-10-22</td><td>2022-10-28</td><td>2022-10-28</td></tr></tbody></table></div>"
      ],
      "text/plain": [
       "shape: (5, 7)\n",
       "┌──────────────┬──────────────┬──────────────┬───────────┬─────────────┬─────────────┬─────────────┐\n",
       "│ TicketID     ┆ Ubicacion    ┆ Service Desk ┆ Estado    ┆ Fecha       ┆ Fecha       ┆ Fecha       │\n",
       "│ ---          ┆ ---          ┆ ---          ┆ ---       ┆ Creacion    ┆ Termino     ┆ Cierre      │\n",
       "│ str          ┆ str          ┆ str          ┆ str       ┆ ---         ┆ ---         ┆ ---         │\n",
       "│              ┆              ┆              ┆           ┆ date        ┆ date        ┆ date        │\n",
       "╞══════════════╪══════════════╪══════════════╪═══════════╪═════════════╪═════════════╪═════════════╡\n",
       "│ WO0000004864 ┆ PERU -       ┆ Zona Centro  ┆ Cerrado   ┆ 2023-01-06  ┆ 2023-01-11  ┆ 2023-01-14  │\n",
       "│ 586          ┆ 191056       ┆              ┆           ┆             ┆             ┆             │\n",
       "│ WO0000004309 ┆ PLAZA CIVICA ┆ Zona Centro  ┆ Cerrado   ┆ 2022-08-03  ┆ 2022-08-03  ┆ 2022-08-03  │\n",
       "│ 209          ┆ VENTANILLA - ┆              ┆           ┆             ┆             ┆             │\n",
       "│              ┆ 192026       ┆              ┆           ┆             ┆             ┆             │\n",
       "│ WO0000004145 ┆ TACNA -      ┆ Zona Norte   ┆ Terminado ┆ 2022-06-10  ┆ 2022-06-13  ┆ null        │\n",
       "│ 864          ┆ 540000       ┆              ┆           ┆             ┆             ┆             │\n",
       "│ WO0000004793 ┆ ROSA TORO -  ┆ Zona Centro  ┆ Cerrado   ┆ 2022-12-07  ┆ 2022-12-10  ┆ 2022-12-12  │\n",
       "│ 133          ┆ 193022       ┆              ┆           ┆             ┆             ┆             │\n",
       "│ WO0000004554 ┆ CHINCHA -    ┆ Zona Centro  ┆ Cerrado   ┆ 2022-10-22  ┆ 2022-10-28  ┆ 2022-10-28  │\n",
       "│ 767          ┆ 315000       ┆              ┆           ┆             ┆             ┆             │\n",
       "└──────────────┴──────────────┴──────────────┴───────────┴─────────────┴─────────────┴─────────────┘"
      ]
     },
     "execution_count": 45,
     "metadata": {},
     "output_type": "execute_result"
    }
   ],
   "source": [
    "dfTicketsUnidos = pl.concat(\n",
    "    [dfTicketsActuales, dfTicketsHistoricos]\n",
    ").sort(\n",
    "    by = pl.col(\"Fecha Creacion\"),\n",
    "    descending= True\n",
    ").unique(\n",
    "    subset=\"TicketID\",\n",
    "    keep='first'\n",
    ")\n",
    "\n",
    "\n",
    "dfTicketsUnidos.head()"
   ]
  },
  {
   "cell_type": "markdown",
   "metadata": {},
   "source": [
    "##### SEPARAMOS UBICACION Y CODIGO"
   ]
  },
  {
   "cell_type": "code",
   "execution_count": null,
   "metadata": {},
   "outputs": [],
   "source": [
    "dfTicketsUnidos = dfTicketsUnidos.with_columns(\n",
    "    pl.col(\"Ubicacion\")\n",
    "    .str.split_exact(\" - \", 1)\n",
    "    .struct.rename_fields([\"Agencia\",\"AgenciaID\"])\n",
    ").unnest(\"Ubicacion\")\n"
   ]
  },
  {
   "cell_type": "code",
   "execution_count": 75,
   "metadata": {},
   "outputs": [],
   "source": [
    "dfTicketsUnidos = dfTicketsUnidos.with_columns(\n",
    "    pl.col(\"AgenciaID\").cast(pl.Int64)\n",
    ")"
   ]
  },
  {
   "cell_type": "markdown",
   "metadata": {},
   "source": [
    "###### FECHA REAL FIN"
   ]
  },
  {
   "cell_type": "code",
   "execution_count": 82,
   "metadata": {},
   "outputs": [],
   "source": [
    "dfTicketsUnidos = dfTicketsUnidos.with_columns(\n",
    "    pl.when(pl.col(\"Fecha Termino\").is_null())\n",
    "    .then(pl.col(\"Fecha Cierre\"))\n",
    "    .otherwise(pl.col(\"Fecha Termino\"))\n",
    "    .alias(\"Fecha Real Fin\")\n",
    ")\n"
   ]
  },
  {
   "cell_type": "markdown",
   "metadata": {},
   "source": [
    "###### DIAS CIERRE"
   ]
  },
  {
   "cell_type": "code",
   "execution_count": 84,
   "metadata": {},
   "outputs": [],
   "source": [
    "dfTicketsUnidos = dfTicketsUnidos.with_columns(\n",
    "    (pl.col(\"Fecha Real Fin\") - pl.col(\"Fecha Creacion\")).dt.total_days().alias(\"Dias Cierre\")\n",
    ")"
   ]
  },
  {
   "cell_type": "code",
   "execution_count": 129,
   "metadata": {},
   "outputs": [],
   "source": [
    "dfTicketsUnidos = dfTicketsUnidos.with_columns(\n",
    "    pl.when(pl.col(\"Dias Cierre\").is_null()).then(None)\n",
    "    .when(pl.col(\"Dias Cierre\")<=3).then(pl.lit(\"0 a 3 dias\"))\n",
    "    .when(pl.col(\"Dias Cierre\")<=7).then(pl.lit(\"4 a 7 dias\"))\n",
    "    .when(pl.col(\"Dias Cierre\")<=15).then(pl.lit(\"8 a 15 dias\"))\n",
    "    .otherwise(pl.lit(\"+ 15 dias\"))\n",
    "    .alias(\"Grupo Dias\")\n",
    ")"
   ]
  },
  {
   "cell_type": "markdown",
   "metadata": {},
   "source": [
    "#### BASE ATENCIONES"
   ]
  },
  {
   "cell_type": "code",
   "execution_count": 86,
   "metadata": {},
   "outputs": [],
   "source": [
    "from pathlib import Path"
   ]
  },
  {
   "cell_type": "code",
   "execution_count": 87,
   "metadata": {},
   "outputs": [],
   "source": [
    "rutaCarpeta = Path('./Atenciones')"
   ]
  },
  {
   "cell_type": "code",
   "execution_count": 88,
   "metadata": {},
   "outputs": [],
   "source": [
    "archivosExcel = list(rutaCarpeta.glob('*.xlsx'))\n"
   ]
  },
  {
   "cell_type": "code",
   "execution_count": 100,
   "metadata": {},
   "outputs": [
    {
     "name": "stdout",
     "output_type": "stream",
     "text": [
      "Atenciones Centro.xlsx\n",
      "Atenciones Norte.xlsx\n",
      "Atenciones Sur.xlsx\n"
     ]
    }
   ],
   "source": [
    "Atenciones = pl.DataFrame()\n",
    "for archivo in archivosExcel:\n",
    "    file = str(archivo).split(\"\\\\\")[1]\n",
    "    print(file)\n",
    "    aux_DF = pl.read_excel(\n",
    "        source=\"./Atenciones/\" + file,\n",
    "        engine=\"xlsx2csv\",\n",
    "        sheet_name=\"Hoja1\",\n",
    "        read_csv_options={\n",
    "            \"columns\" : [\"Numero Ticket\", \"Tipo de Ticket\", \"Proveedor\", \"Costo Atencion\"]\n",
    "        },\n",
    "        schema_overrides = {\n",
    "            \"Numero Ticket\" : pl.Utf8, \n",
    "            \"Tipo de Ticket\" : pl.Utf8, \n",
    "            \"Proveedor\" : pl.Utf8,\n",
    "            \"Costo Atencion\" : pl.Utf8\n",
    "        }\n",
    "    ).rename({\n",
    "        \"Numero Ticket\" : \"TicketID\"\n",
    "    })\n",
    "\n",
    "    Atenciones = pl.concat([Atenciones, aux_DF ], how = 'vertical')"
   ]
  },
  {
   "cell_type": "markdown",
   "metadata": {},
   "source": [
    "##### COSTO ATENCION"
   ]
  },
  {
   "cell_type": "code",
   "execution_count": 138,
   "metadata": {},
   "outputs": [],
   "source": [
    "Atenciones = Atenciones.with_columns(\n",
    "    pl.col(\"Costo Atencion\").str.to_uppercase()\n",
    "    .str.replace(\"SIN COSTO\", \"0\")\n",
    "    .str.replace(\"COSTO CERO\", \"0\")\n",
    "    .cast(pl.Float64, strict=False)\n",
    "    .alias(\"Costo Atencion\")\n",
    ")\n"
   ]
  },
  {
   "cell_type": "markdown",
   "metadata": {},
   "source": [
    "##### COMBINAR Y EXPORTAR"
   ]
  },
  {
   "cell_type": "code",
   "execution_count": 139,
   "metadata": {},
   "outputs": [],
   "source": [
    "excelLoaded = dfTicketsUnidos.join(\n",
    "    Atenciones,\n",
    "    on = \"TicketID\",\n",
    "    how=\"inner\"\n",
    ").select(\n",
    "    \"TicketID\",\n",
    "    \"AgenciaID\",\n",
    "    \"Agencia\", \n",
    "    \"Service Desk\", \n",
    "    \"Estado\", \n",
    "    \"Fecha Creacion\", \n",
    "    \"Fecha Real Fin\",\n",
    "    \"Grupo Dias\", \n",
    "    \"Tipo de Ticket\", \n",
    "    \"Costo Atencion\"\n",
    ").rename({\n",
    "    \"Fecha Real Fin\" : \"Fecha Cierre\",\n",
    "    \"Tipo de Ticket\" : \"Tipo Ticket\",\n",
    "    \"Costo Atencion\" : \"Costo\"\n",
    "})"
   ]
  },
  {
   "cell_type": "markdown",
   "metadata": {},
   "source": [
    "##### EXPORTACION"
   ]
  },
  {
   "cell_type": "code",
   "execution_count": 140,
   "metadata": {},
   "outputs": [
    {
     "data": {
      "text/plain": [
       "<xlsxwriter.workbook.Workbook at 0x2513a4afd70>"
      ]
     },
     "execution_count": 140,
     "metadata": {},
     "output_type": "execute_result"
    }
   ],
   "source": [
    "excelLoaded.write_excel(\n",
    "    workbook=\"Consolidado.xlsx\",\n",
    "    worksheet = \"Atenciones\",\n",
    "    table_style = \"Table Style Light 16\",\n",
    "    dtype_formats = {pl.Date: \"dd/mm/yyyy\" },\n",
    "    float_precision=2,\n",
    "    autofit=True\n",
    ")"
   ]
  }
 ],
 "metadata": {
  "kernelspec": {
   "display_name": "env",
   "language": "python",
   "name": "python3"
  },
  "language_info": {
   "codemirror_mode": {
    "name": "ipython",
    "version": 3
   },
   "file_extension": ".py",
   "mimetype": "text/x-python",
   "name": "python",
   "nbconvert_exporter": "python",
   "pygments_lexer": "ipython3",
   "version": "3.12.0"
  }
 },
 "nbformat": 4,
 "nbformat_minor": 2
}
